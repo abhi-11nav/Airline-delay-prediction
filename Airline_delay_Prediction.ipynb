{
  "nbformat": 4,
  "nbformat_minor": 0,
  "metadata": {
    "colab": {
      "name": "Airline-delay Prediction.ipynb",
      "provenance": [],
      "collapsed_sections": [],
      "authorship_tag": "ABX9TyMj3J1o0Ex7Arc7ZYuxOfBZ",
      "include_colab_link": true
    },
    "kernelspec": {
      "name": "python3",
      "display_name": "Python 3"
    },
    "language_info": {
      "name": "python"
    }
  },
  "cells": [
    {
      "cell_type": "markdown",
      "metadata": {
        "id": "view-in-github",
        "colab_type": "text"
      },
      "source": [
        "<a href=\"https://colab.research.google.com/github/abhi-11nav/Airline-delay-prediction/blob/main/Airline_delay_Prediction.ipynb\" target=\"_parent\"><img src=\"https://colab.research.google.com/assets/colab-badge.svg\" alt=\"Open In Colab\"/></a>"
      ]
    },
    {
      "cell_type": "code",
      "execution_count": 63,
      "metadata": {
        "id": "cEGzc5GdZt6j"
      },
      "outputs": [],
      "source": [
        "# Importing the libraries for dataset import and manipulation\n",
        "\n",
        "import pandas as pd \n",
        "import numpy as np "
      ]
    },
    {
      "cell_type": "code",
      "source": [
        "# link for raw data uploaded on github\n",
        "\n",
        "dataset_path = \"https://raw.githubusercontent.com/abhi-11nav/Airline-delay-prediction/main/Airlines.csv\""
      ],
      "metadata": {
        "id": "CO8_8o1UZ_5f"
      },
      "execution_count": 64,
      "outputs": []
    },
    {
      "cell_type": "code",
      "source": [
        "# Loading the dataset into the dataset variable\n",
        "\n",
        "dataset = pd.read_csv(dataset_path)"
      ],
      "metadata": {
        "id": "h9n2v7VyaNWN"
      },
      "execution_count": 65,
      "outputs": []
    },
    {
      "cell_type": "code",
      "source": [
        "# Printing the first 5 rows of the dataset\n",
        "\n",
        "dataset.head()"
      ],
      "metadata": {
        "colab": {
          "base_uri": "https://localhost:8080/",
          "height": 198
        },
        "id": "R7t97VH2aSgF",
        "outputId": "eac2e5e3-47e8-4f26-cd05-309798a43ea1"
      },
      "execution_count": 5,
      "outputs": [
        {
          "output_type": "error",
          "ename": "NameError",
          "evalue": "ignored",
          "traceback": [
            "\u001b[0;31m---------------------------------------------------------------------------\u001b[0m",
            "\u001b[0;31mNameError\u001b[0m                                 Traceback (most recent call last)",
            "\u001b[0;32m<ipython-input-5-81c695f219cc>\u001b[0m in \u001b[0;36m<module>\u001b[0;34m()\u001b[0m\n\u001b[1;32m      1\u001b[0m \u001b[0;31m# Printing the first 5 rows of the dataset\u001b[0m\u001b[0;34m\u001b[0m\u001b[0;34m\u001b[0m\u001b[0;34m\u001b[0m\u001b[0m\n\u001b[1;32m      2\u001b[0m \u001b[0;34m\u001b[0m\u001b[0m\n\u001b[0;32m----> 3\u001b[0;31m \u001b[0mdataset\u001b[0m\u001b[0;34m.\u001b[0m\u001b[0mhead\u001b[0m\u001b[0;34m(\u001b[0m\u001b[0;34m)\u001b[0m\u001b[0;34m\u001b[0m\u001b[0;34m\u001b[0m\u001b[0m\n\u001b[0m",
            "\u001b[0;31mNameError\u001b[0m: name 'dataset' is not defined"
          ]
        }
      ]
    },
    {
      "cell_type": "code",
      "source": [
        "# Printing the shape of data\n",
        "\n",
        "dataset.shape"
      ],
      "metadata": {
        "colab": {
          "base_uri": "https://localhost:8080/"
        },
        "id": "o8WxmznRaVek",
        "outputId": "514cdf34-51d8-4a5c-b975-6a0b29c0ce25"
      },
      "execution_count": 67,
      "outputs": [
        {
          "output_type": "execute_result",
          "data": {
            "text/plain": [
              "(539383, 9)"
            ]
          },
          "metadata": {},
          "execution_count": 67
        }
      ]
    },
    {
      "cell_type": "markdown",
      "source": [
        "# DATA PREPROCESSING "
      ],
      "metadata": {
        "id": "QG6HVmw0dj5C"
      }
    },
    {
      "cell_type": "code",
      "source": [
        "# Checking for missing values in the dataset \n",
        "\n",
        "missing_val_feature_count = 0\n",
        "\n",
        "for col in dataset.columns:\n",
        "  if dataset[col].isna().any() == True:\n",
        "    missing_val_feature_count += 1\n",
        "\n",
        "if missing_val_feature_count>0:\n",
        "  print(\"WARNING - There are missing values in the dataset\")\n",
        "else:\n",
        "  print(\"There are no missing values in the dataset\")"
      ],
      "metadata": {
        "colab": {
          "base_uri": "https://localhost:8080/"
        },
        "id": "rxyNLG8WgDTw",
        "outputId": "dc50bdbd-b6ea-4216-936d-57b8f2c785cb"
      },
      "execution_count": 68,
      "outputs": [
        {
          "output_type": "stream",
          "name": "stdout",
          "text": [
            "There are no missing values in the dataset\n"
          ]
        }
      ]
    },
    {
      "cell_type": "markdown",
      "source": [
        "This shows us that there are no missing values in the dataset"
      ],
      "metadata": {
        "id": "wuIUaG2bhq2O"
      }
    },
    {
      "cell_type": "code",
      "source": [
        "# Removing unnecessary feature \"id\" because it consists of all unique values\n",
        "\n",
        "dataset.drop(\"id\", axis=1,inplace=True)"
      ],
      "metadata": {
        "id": "mDZ8w96Xgg9R"
      },
      "execution_count": 69,
      "outputs": []
    },
    {
      "cell_type": "markdown",
      "source": [
        "\"id\" feature has been removed from the dataset\n",
        "\n",
        "axis = 1 is to specify the axis to search on for removal of the feature,\n",
        "\n",
        "inplace = True for removing the columns permanently from the data"
      ],
      "metadata": {
        "id": "93oJpD6didUJ"
      }
    },
    {
      "cell_type": "markdown",
      "source": [
        "."
      ],
      "metadata": {
        "id": "lZywAW1LizxF"
      }
    },
    {
      "cell_type": "markdown",
      "source": [
        "**CLASSIFYING FEATURES AND LABELS**\n",
        "\n",
        "DELAY IS OUR DEPENDENT VARIABLE (LABEL/Y)\n",
        "\n",
        "REAMINING FEATURES ARE OUR INDEPENDENT VARIABLES ( FEATURES/X)"
      ],
      "metadata": {
        "id": "l_H-GAqDjGLt"
      }
    },
    {
      "cell_type": "code",
      "source": [
        "# Let us focus on the categorical variables of the dataset\n",
        "\n",
        "# Printing the number of categorical variables\n",
        "categorical_features = []\n",
        "\n",
        "for col in dataset.columns:\n",
        "  if type(dataset[col][0]) == str:\n",
        "    categorical_features.append(col)\n",
        "\n",
        "print(categorical_features,\"are the categorical features in the dataset\")"
      ],
      "metadata": {
        "colab": {
          "base_uri": "https://localhost:8080/"
        },
        "id": "vkabIi70jR2k",
        "outputId": "7f43625b-22f7-42d1-8cfd-bdab2b9989a4"
      },
      "execution_count": 70,
      "outputs": [
        {
          "output_type": "stream",
          "name": "stdout",
          "text": [
            "['Airline', 'AirportFrom', 'AirportTo'] are the categorical features in the dataset\n"
          ]
        }
      ]
    },
    {
      "cell_type": "code",
      "source": [
        "# Now that we know how many categorical features are there in the dataset. Let us extract more information about it. \n",
        "\n",
        "unique_value_count = {}\n",
        "\n",
        "for columns in categorical_features:\n",
        "  unique_value_count[columns] = len(dataset[columns].value_counts())\n",
        "\n",
        "print(unique_value_count)"
      ],
      "metadata": {
        "colab": {
          "base_uri": "https://localhost:8080/"
        },
        "id": "frUr6HpykhvP",
        "outputId": "68c33509-74a3-48fd-d680-717e08342759"
      },
      "execution_count": 71,
      "outputs": [
        {
          "output_type": "stream",
          "name": "stdout",
          "text": [
            "{'Airline': 18, 'AirportFrom': 293, 'AirportTo': 293}\n"
          ]
        }
      ]
    },
    {
      "cell_type": "markdown",
      "source": [
        "Airline feature has 18 unique values which is fine but the other two features \"AirportTo\" and \"AirportFrom\" has 293 unique values which have to be dealth with. "
      ],
      "metadata": {
        "id": "UqgUgrH1mFG7"
      }
    },
    {
      "cell_type": "code",
      "source": [
        "\"\"\"# Encoding categorical variables  \n",
        "\n",
        "#Creating columns with blank values to fill it with encoded values\n",
        "for cols in categorical_features:\n",
        "  dataset[cols+str(\"_encoded\")] = 0 \n",
        "\n",
        "for cols in categorical_features:\n",
        "  for value in dataset[cols].unique():\n",
        "    len = dataset[dataset[cols]==value][\"Delay\"].values.size\n",
        "    label_ones = np.sum(dataset[dataset[cols]==value][\"Delay\"].values) \n",
        "    dataset[dataset[cols]==value][cols+str(\"_encoded\")].replace((label_ones/(len-label_ones)))\n",
        "    \"\"\""
      ],
      "metadata": {
        "colab": {
          "base_uri": "https://localhost:8080/",
          "height": 88
        },
        "id": "Y1OCBgOIFTtd",
        "outputId": "1342bcf3-6cd3-4727-aac0-15252cc95a8f"
      },
      "execution_count": 72,
      "outputs": [
        {
          "output_type": "execute_result",
          "data": {
            "text/plain": [
              "'# Encoding categorical variables  \\n\\n#Creating columns with blank values to fill it with encoded values\\nfor cols in categorical_features:\\n  dataset[cols+str(\"_encoded\")] = 0 \\n\\nfor cols in categorical_features:\\n  for value in dataset[cols].unique():\\n    len = dataset[dataset[cols]==value][\"Delay\"].values.size\\n    label_ones = np.sum(dataset[dataset[cols]==value][\"Delay\"].values) \\n    dataset[dataset[cols]==value][cols+str(\"_encoded\")].replace((label_ones/(len-label_ones)))\\n    '"
            ],
            "application/vnd.google.colaboratory.intrinsic+json": {
              "type": "string"
            }
          },
          "metadata": {},
          "execution_count": 72
        }
      ]
    },
    {
      "cell_type": "code",
      "source": [
        "dataset.head()"
      ],
      "metadata": {
        "colab": {
          "base_uri": "https://localhost:8080/",
          "height": 204
        },
        "id": "HcALKpOoNztA",
        "outputId": "5e421e92-b855-4de1-eb10-3aa8f97860fe"
      },
      "execution_count": 73,
      "outputs": [
        {
          "output_type": "execute_result",
          "data": {
            "text/plain": [
              "  Airline  Flight AirportFrom AirportTo  DayOfWeek  Time  Length  Delay\n",
              "0      CO     269         SFO       IAH          3    15     205      1\n",
              "1      US    1558         PHX       CLT          3    15     222      1\n",
              "2      AA    2400         LAX       DFW          3    20     165      1\n",
              "3      AA    2466         SFO       DFW          3    20     195      1\n",
              "4      AS     108         ANC       SEA          3    30     202      0"
            ],
            "text/html": [
              "\n",
              "  <div id=\"df-e8091363-15fb-4620-8050-113777982f52\">\n",
              "    <div class=\"colab-df-container\">\n",
              "      <div>\n",
              "<style scoped>\n",
              "    .dataframe tbody tr th:only-of-type {\n",
              "        vertical-align: middle;\n",
              "    }\n",
              "\n",
              "    .dataframe tbody tr th {\n",
              "        vertical-align: top;\n",
              "    }\n",
              "\n",
              "    .dataframe thead th {\n",
              "        text-align: right;\n",
              "    }\n",
              "</style>\n",
              "<table border=\"1\" class=\"dataframe\">\n",
              "  <thead>\n",
              "    <tr style=\"text-align: right;\">\n",
              "      <th></th>\n",
              "      <th>Airline</th>\n",
              "      <th>Flight</th>\n",
              "      <th>AirportFrom</th>\n",
              "      <th>AirportTo</th>\n",
              "      <th>DayOfWeek</th>\n",
              "      <th>Time</th>\n",
              "      <th>Length</th>\n",
              "      <th>Delay</th>\n",
              "    </tr>\n",
              "  </thead>\n",
              "  <tbody>\n",
              "    <tr>\n",
              "      <th>0</th>\n",
              "      <td>CO</td>\n",
              "      <td>269</td>\n",
              "      <td>SFO</td>\n",
              "      <td>IAH</td>\n",
              "      <td>3</td>\n",
              "      <td>15</td>\n",
              "      <td>205</td>\n",
              "      <td>1</td>\n",
              "    </tr>\n",
              "    <tr>\n",
              "      <th>1</th>\n",
              "      <td>US</td>\n",
              "      <td>1558</td>\n",
              "      <td>PHX</td>\n",
              "      <td>CLT</td>\n",
              "      <td>3</td>\n",
              "      <td>15</td>\n",
              "      <td>222</td>\n",
              "      <td>1</td>\n",
              "    </tr>\n",
              "    <tr>\n",
              "      <th>2</th>\n",
              "      <td>AA</td>\n",
              "      <td>2400</td>\n",
              "      <td>LAX</td>\n",
              "      <td>DFW</td>\n",
              "      <td>3</td>\n",
              "      <td>20</td>\n",
              "      <td>165</td>\n",
              "      <td>1</td>\n",
              "    </tr>\n",
              "    <tr>\n",
              "      <th>3</th>\n",
              "      <td>AA</td>\n",
              "      <td>2466</td>\n",
              "      <td>SFO</td>\n",
              "      <td>DFW</td>\n",
              "      <td>3</td>\n",
              "      <td>20</td>\n",
              "      <td>195</td>\n",
              "      <td>1</td>\n",
              "    </tr>\n",
              "    <tr>\n",
              "      <th>4</th>\n",
              "      <td>AS</td>\n",
              "      <td>108</td>\n",
              "      <td>ANC</td>\n",
              "      <td>SEA</td>\n",
              "      <td>3</td>\n",
              "      <td>30</td>\n",
              "      <td>202</td>\n",
              "      <td>0</td>\n",
              "    </tr>\n",
              "  </tbody>\n",
              "</table>\n",
              "</div>\n",
              "      <button class=\"colab-df-convert\" onclick=\"convertToInteractive('df-e8091363-15fb-4620-8050-113777982f52')\"\n",
              "              title=\"Convert this dataframe to an interactive table.\"\n",
              "              style=\"display:none;\">\n",
              "        \n",
              "  <svg xmlns=\"http://www.w3.org/2000/svg\" height=\"24px\"viewBox=\"0 0 24 24\"\n",
              "       width=\"24px\">\n",
              "    <path d=\"M0 0h24v24H0V0z\" fill=\"none\"/>\n",
              "    <path d=\"M18.56 5.44l.94 2.06.94-2.06 2.06-.94-2.06-.94-.94-2.06-.94 2.06-2.06.94zm-11 1L8.5 8.5l.94-2.06 2.06-.94-2.06-.94L8.5 2.5l-.94 2.06-2.06.94zm10 10l.94 2.06.94-2.06 2.06-.94-2.06-.94-.94-2.06-.94 2.06-2.06.94z\"/><path d=\"M17.41 7.96l-1.37-1.37c-.4-.4-.92-.59-1.43-.59-.52 0-1.04.2-1.43.59L10.3 9.45l-7.72 7.72c-.78.78-.78 2.05 0 2.83L4 21.41c.39.39.9.59 1.41.59.51 0 1.02-.2 1.41-.59l7.78-7.78 2.81-2.81c.8-.78.8-2.07 0-2.86zM5.41 20L4 18.59l7.72-7.72 1.47 1.35L5.41 20z\"/>\n",
              "  </svg>\n",
              "      </button>\n",
              "      \n",
              "  <style>\n",
              "    .colab-df-container {\n",
              "      display:flex;\n",
              "      flex-wrap:wrap;\n",
              "      gap: 12px;\n",
              "    }\n",
              "\n",
              "    .colab-df-convert {\n",
              "      background-color: #E8F0FE;\n",
              "      border: none;\n",
              "      border-radius: 50%;\n",
              "      cursor: pointer;\n",
              "      display: none;\n",
              "      fill: #1967D2;\n",
              "      height: 32px;\n",
              "      padding: 0 0 0 0;\n",
              "      width: 32px;\n",
              "    }\n",
              "\n",
              "    .colab-df-convert:hover {\n",
              "      background-color: #E2EBFA;\n",
              "      box-shadow: 0px 1px 2px rgba(60, 64, 67, 0.3), 0px 1px 3px 1px rgba(60, 64, 67, 0.15);\n",
              "      fill: #174EA6;\n",
              "    }\n",
              "\n",
              "    [theme=dark] .colab-df-convert {\n",
              "      background-color: #3B4455;\n",
              "      fill: #D2E3FC;\n",
              "    }\n",
              "\n",
              "    [theme=dark] .colab-df-convert:hover {\n",
              "      background-color: #434B5C;\n",
              "      box-shadow: 0px 1px 3px 1px rgba(0, 0, 0, 0.15);\n",
              "      filter: drop-shadow(0px 1px 2px rgba(0, 0, 0, 0.3));\n",
              "      fill: #FFFFFF;\n",
              "    }\n",
              "  </style>\n",
              "\n",
              "      <script>\n",
              "        const buttonEl =\n",
              "          document.querySelector('#df-e8091363-15fb-4620-8050-113777982f52 button.colab-df-convert');\n",
              "        buttonEl.style.display =\n",
              "          google.colab.kernel.accessAllowed ? 'block' : 'none';\n",
              "\n",
              "        async function convertToInteractive(key) {\n",
              "          const element = document.querySelector('#df-e8091363-15fb-4620-8050-113777982f52');\n",
              "          const dataTable =\n",
              "            await google.colab.kernel.invokeFunction('convertToInteractive',\n",
              "                                                     [key], {});\n",
              "          if (!dataTable) return;\n",
              "\n",
              "          const docLinkHtml = 'Like what you see? Visit the ' +\n",
              "            '<a target=\"_blank\" href=https://colab.research.google.com/notebooks/data_table.ipynb>data table notebook</a>'\n",
              "            + ' to learn more about interactive tables.';\n",
              "          element.innerHTML = '';\n",
              "          dataTable['output_type'] = 'display_data';\n",
              "          await google.colab.output.renderOutput(dataTable, element);\n",
              "          const docLink = document.createElement('div');\n",
              "          docLink.innerHTML = docLinkHtml;\n",
              "          element.appendChild(docLink);\n",
              "        }\n",
              "      </script>\n",
              "    </div>\n",
              "  </div>\n",
              "  "
            ]
          },
          "metadata": {},
          "execution_count": 73
        }
      ]
    },
    {
      "cell_type": "code",
      "source": [
        "# Defining a function to encode the values of categorical columns \n",
        "\n",
        "def frequency_encoder(categoorical_cols, dataset):\n",
        "  for cols in categorical_features:\n",
        "    frequency_map = {}\n",
        "    frequency_map = dataset[cols].value_counts().to_dict()\n",
        "    # Mapping the frequency to the categories in the dataset \n",
        "    dataset[cols] = dataset[cols].map(frequency_map)"
      ],
      "metadata": {
        "id": "1gpEOVNBDFDC"
      },
      "execution_count": 74,
      "outputs": []
    },
    {
      "cell_type": "code",
      "source": [
        "frequency_encoder(categorical_features, dataset)"
      ],
      "metadata": {
        "id": "ZR11crKHmWRw"
      },
      "execution_count": 75,
      "outputs": []
    },
    {
      "cell_type": "code",
      "source": [
        "dataset.head()"
      ],
      "metadata": {
        "colab": {
          "base_uri": "https://localhost:8080/",
          "height": 204
        },
        "id": "i4kdxI_lvCUe",
        "outputId": "4678c7ee-657c-4303-e92b-fb1939ca783a"
      },
      "execution_count": 76,
      "outputs": [
        {
          "output_type": "execute_result",
          "data": {
            "text/plain": [
              "   Airline  Flight  AirportFrom  AirportTo  DayOfWeek  Time  Length  Delay\n",
              "0    21118     269        11786      15819          3    15     205      1\n",
              "1    34500    1558        15557      11132          3    15     222      1\n",
              "2    45656    2400        16657      22153          3    20     165      1\n",
              "3    45656    2466        11786      22153          3    20     195      1\n",
              "4    11471     108         1307       8042          3    30     202      0"
            ],
            "text/html": [
              "\n",
              "  <div id=\"df-9589ee0a-83ac-4829-a69e-bc39ce8876d0\">\n",
              "    <div class=\"colab-df-container\">\n",
              "      <div>\n",
              "<style scoped>\n",
              "    .dataframe tbody tr th:only-of-type {\n",
              "        vertical-align: middle;\n",
              "    }\n",
              "\n",
              "    .dataframe tbody tr th {\n",
              "        vertical-align: top;\n",
              "    }\n",
              "\n",
              "    .dataframe thead th {\n",
              "        text-align: right;\n",
              "    }\n",
              "</style>\n",
              "<table border=\"1\" class=\"dataframe\">\n",
              "  <thead>\n",
              "    <tr style=\"text-align: right;\">\n",
              "      <th></th>\n",
              "      <th>Airline</th>\n",
              "      <th>Flight</th>\n",
              "      <th>AirportFrom</th>\n",
              "      <th>AirportTo</th>\n",
              "      <th>DayOfWeek</th>\n",
              "      <th>Time</th>\n",
              "      <th>Length</th>\n",
              "      <th>Delay</th>\n",
              "    </tr>\n",
              "  </thead>\n",
              "  <tbody>\n",
              "    <tr>\n",
              "      <th>0</th>\n",
              "      <td>21118</td>\n",
              "      <td>269</td>\n",
              "      <td>11786</td>\n",
              "      <td>15819</td>\n",
              "      <td>3</td>\n",
              "      <td>15</td>\n",
              "      <td>205</td>\n",
              "      <td>1</td>\n",
              "    </tr>\n",
              "    <tr>\n",
              "      <th>1</th>\n",
              "      <td>34500</td>\n",
              "      <td>1558</td>\n",
              "      <td>15557</td>\n",
              "      <td>11132</td>\n",
              "      <td>3</td>\n",
              "      <td>15</td>\n",
              "      <td>222</td>\n",
              "      <td>1</td>\n",
              "    </tr>\n",
              "    <tr>\n",
              "      <th>2</th>\n",
              "      <td>45656</td>\n",
              "      <td>2400</td>\n",
              "      <td>16657</td>\n",
              "      <td>22153</td>\n",
              "      <td>3</td>\n",
              "      <td>20</td>\n",
              "      <td>165</td>\n",
              "      <td>1</td>\n",
              "    </tr>\n",
              "    <tr>\n",
              "      <th>3</th>\n",
              "      <td>45656</td>\n",
              "      <td>2466</td>\n",
              "      <td>11786</td>\n",
              "      <td>22153</td>\n",
              "      <td>3</td>\n",
              "      <td>20</td>\n",
              "      <td>195</td>\n",
              "      <td>1</td>\n",
              "    </tr>\n",
              "    <tr>\n",
              "      <th>4</th>\n",
              "      <td>11471</td>\n",
              "      <td>108</td>\n",
              "      <td>1307</td>\n",
              "      <td>8042</td>\n",
              "      <td>3</td>\n",
              "      <td>30</td>\n",
              "      <td>202</td>\n",
              "      <td>0</td>\n",
              "    </tr>\n",
              "  </tbody>\n",
              "</table>\n",
              "</div>\n",
              "      <button class=\"colab-df-convert\" onclick=\"convertToInteractive('df-9589ee0a-83ac-4829-a69e-bc39ce8876d0')\"\n",
              "              title=\"Convert this dataframe to an interactive table.\"\n",
              "              style=\"display:none;\">\n",
              "        \n",
              "  <svg xmlns=\"http://www.w3.org/2000/svg\" height=\"24px\"viewBox=\"0 0 24 24\"\n",
              "       width=\"24px\">\n",
              "    <path d=\"M0 0h24v24H0V0z\" fill=\"none\"/>\n",
              "    <path d=\"M18.56 5.44l.94 2.06.94-2.06 2.06-.94-2.06-.94-.94-2.06-.94 2.06-2.06.94zm-11 1L8.5 8.5l.94-2.06 2.06-.94-2.06-.94L8.5 2.5l-.94 2.06-2.06.94zm10 10l.94 2.06.94-2.06 2.06-.94-2.06-.94-.94-2.06-.94 2.06-2.06.94z\"/><path d=\"M17.41 7.96l-1.37-1.37c-.4-.4-.92-.59-1.43-.59-.52 0-1.04.2-1.43.59L10.3 9.45l-7.72 7.72c-.78.78-.78 2.05 0 2.83L4 21.41c.39.39.9.59 1.41.59.51 0 1.02-.2 1.41-.59l7.78-7.78 2.81-2.81c.8-.78.8-2.07 0-2.86zM5.41 20L4 18.59l7.72-7.72 1.47 1.35L5.41 20z\"/>\n",
              "  </svg>\n",
              "      </button>\n",
              "      \n",
              "  <style>\n",
              "    .colab-df-container {\n",
              "      display:flex;\n",
              "      flex-wrap:wrap;\n",
              "      gap: 12px;\n",
              "    }\n",
              "\n",
              "    .colab-df-convert {\n",
              "      background-color: #E8F0FE;\n",
              "      border: none;\n",
              "      border-radius: 50%;\n",
              "      cursor: pointer;\n",
              "      display: none;\n",
              "      fill: #1967D2;\n",
              "      height: 32px;\n",
              "      padding: 0 0 0 0;\n",
              "      width: 32px;\n",
              "    }\n",
              "\n",
              "    .colab-df-convert:hover {\n",
              "      background-color: #E2EBFA;\n",
              "      box-shadow: 0px 1px 2px rgba(60, 64, 67, 0.3), 0px 1px 3px 1px rgba(60, 64, 67, 0.15);\n",
              "      fill: #174EA6;\n",
              "    }\n",
              "\n",
              "    [theme=dark] .colab-df-convert {\n",
              "      background-color: #3B4455;\n",
              "      fill: #D2E3FC;\n",
              "    }\n",
              "\n",
              "    [theme=dark] .colab-df-convert:hover {\n",
              "      background-color: #434B5C;\n",
              "      box-shadow: 0px 1px 3px 1px rgba(0, 0, 0, 0.15);\n",
              "      filter: drop-shadow(0px 1px 2px rgba(0, 0, 0, 0.3));\n",
              "      fill: #FFFFFF;\n",
              "    }\n",
              "  </style>\n",
              "\n",
              "      <script>\n",
              "        const buttonEl =\n",
              "          document.querySelector('#df-9589ee0a-83ac-4829-a69e-bc39ce8876d0 button.colab-df-convert');\n",
              "        buttonEl.style.display =\n",
              "          google.colab.kernel.accessAllowed ? 'block' : 'none';\n",
              "\n",
              "        async function convertToInteractive(key) {\n",
              "          const element = document.querySelector('#df-9589ee0a-83ac-4829-a69e-bc39ce8876d0');\n",
              "          const dataTable =\n",
              "            await google.colab.kernel.invokeFunction('convertToInteractive',\n",
              "                                                     [key], {});\n",
              "          if (!dataTable) return;\n",
              "\n",
              "          const docLinkHtml = 'Like what you see? Visit the ' +\n",
              "            '<a target=\"_blank\" href=https://colab.research.google.com/notebooks/data_table.ipynb>data table notebook</a>'\n",
              "            + ' to learn more about interactive tables.';\n",
              "          element.innerHTML = '';\n",
              "          dataTable['output_type'] = 'display_data';\n",
              "          await google.colab.output.renderOutput(dataTable, element);\n",
              "          const docLink = document.createElement('div');\n",
              "          docLink.innerHTML = docLinkHtml;\n",
              "          element.appendChild(docLink);\n",
              "        }\n",
              "      </script>\n",
              "    </div>\n",
              "  </div>\n",
              "  "
            ]
          },
          "metadata": {},
          "execution_count": 76
        }
      ]
    },
    {
      "cell_type": "code",
      "source": [
        "# Scaling down the dataset \n",
        "\n",
        "from sklearn.preprocessing import StandardScaler\n",
        "\n",
        "scaler = StandardScaler()"
      ],
      "metadata": {
        "id": "Hs2lp1FmxN88"
      },
      "execution_count": 77,
      "outputs": []
    },
    {
      "cell_type": "code",
      "source": [
        "# Let us seperate the features and labels in the dataset\n",
        "\n",
        "X = dataset.drop(\"Delay\",axis=1)\n",
        "\n",
        "y = dataset[\"Delay\"]"
      ],
      "metadata": {
        "id": "6JV84AeLMhQx"
      },
      "execution_count": 78,
      "outputs": []
    },
    {
      "cell_type": "code",
      "source": [
        "X = pd.DataFrame(scaler.fit_transform(X),columns=X.columns)"
      ],
      "metadata": {
        "id": "fxipvPSOK9W2"
      },
      "execution_count": 79,
      "outputs": []
    },
    {
      "cell_type": "code",
      "source": [
        "X.head()"
      ],
      "metadata": {
        "colab": {
          "base_uri": "https://localhost:8080/",
          "height": 204
        },
        "id": "lo403Bg3MXKu",
        "outputId": "d6d04c8b-52f0-446f-bdf0-02f66fd826e7"
      },
      "execution_count": 80,
      "outputs": [
        {
          "output_type": "execute_result",
          "data": {
            "text/plain": [
              "    Airline    Flight  AirportFrom  AirportTo  DayOfWeek      Time    Length\n",
              "0 -0.909610 -1.044258     0.131911   0.568396  -0.485552 -2.833092  1.038237\n",
              "1 -0.405341 -0.420778     0.540633   0.060517  -0.485552 -2.833092  1.280689\n",
              "2  0.015047 -0.013509     0.659857   1.254743  -0.485552 -2.815110  0.467761\n",
              "3  0.015047  0.018415     0.131911   1.254743  -0.485552 -2.815110  0.895618\n",
              "4 -1.273135 -1.122133    -1.003862  -0.274312  -0.485552 -2.779144  0.995451"
            ],
            "text/html": [
              "\n",
              "  <div id=\"df-377a97c8-cc73-47ab-9633-6b0ff91908cd\">\n",
              "    <div class=\"colab-df-container\">\n",
              "      <div>\n",
              "<style scoped>\n",
              "    .dataframe tbody tr th:only-of-type {\n",
              "        vertical-align: middle;\n",
              "    }\n",
              "\n",
              "    .dataframe tbody tr th {\n",
              "        vertical-align: top;\n",
              "    }\n",
              "\n",
              "    .dataframe thead th {\n",
              "        text-align: right;\n",
              "    }\n",
              "</style>\n",
              "<table border=\"1\" class=\"dataframe\">\n",
              "  <thead>\n",
              "    <tr style=\"text-align: right;\">\n",
              "      <th></th>\n",
              "      <th>Airline</th>\n",
              "      <th>Flight</th>\n",
              "      <th>AirportFrom</th>\n",
              "      <th>AirportTo</th>\n",
              "      <th>DayOfWeek</th>\n",
              "      <th>Time</th>\n",
              "      <th>Length</th>\n",
              "    </tr>\n",
              "  </thead>\n",
              "  <tbody>\n",
              "    <tr>\n",
              "      <th>0</th>\n",
              "      <td>-0.909610</td>\n",
              "      <td>-1.044258</td>\n",
              "      <td>0.131911</td>\n",
              "      <td>0.568396</td>\n",
              "      <td>-0.485552</td>\n",
              "      <td>-2.833092</td>\n",
              "      <td>1.038237</td>\n",
              "    </tr>\n",
              "    <tr>\n",
              "      <th>1</th>\n",
              "      <td>-0.405341</td>\n",
              "      <td>-0.420778</td>\n",
              "      <td>0.540633</td>\n",
              "      <td>0.060517</td>\n",
              "      <td>-0.485552</td>\n",
              "      <td>-2.833092</td>\n",
              "      <td>1.280689</td>\n",
              "    </tr>\n",
              "    <tr>\n",
              "      <th>2</th>\n",
              "      <td>0.015047</td>\n",
              "      <td>-0.013509</td>\n",
              "      <td>0.659857</td>\n",
              "      <td>1.254743</td>\n",
              "      <td>-0.485552</td>\n",
              "      <td>-2.815110</td>\n",
              "      <td>0.467761</td>\n",
              "    </tr>\n",
              "    <tr>\n",
              "      <th>3</th>\n",
              "      <td>0.015047</td>\n",
              "      <td>0.018415</td>\n",
              "      <td>0.131911</td>\n",
              "      <td>1.254743</td>\n",
              "      <td>-0.485552</td>\n",
              "      <td>-2.815110</td>\n",
              "      <td>0.895618</td>\n",
              "    </tr>\n",
              "    <tr>\n",
              "      <th>4</th>\n",
              "      <td>-1.273135</td>\n",
              "      <td>-1.122133</td>\n",
              "      <td>-1.003862</td>\n",
              "      <td>-0.274312</td>\n",
              "      <td>-0.485552</td>\n",
              "      <td>-2.779144</td>\n",
              "      <td>0.995451</td>\n",
              "    </tr>\n",
              "  </tbody>\n",
              "</table>\n",
              "</div>\n",
              "      <button class=\"colab-df-convert\" onclick=\"convertToInteractive('df-377a97c8-cc73-47ab-9633-6b0ff91908cd')\"\n",
              "              title=\"Convert this dataframe to an interactive table.\"\n",
              "              style=\"display:none;\">\n",
              "        \n",
              "  <svg xmlns=\"http://www.w3.org/2000/svg\" height=\"24px\"viewBox=\"0 0 24 24\"\n",
              "       width=\"24px\">\n",
              "    <path d=\"M0 0h24v24H0V0z\" fill=\"none\"/>\n",
              "    <path d=\"M18.56 5.44l.94 2.06.94-2.06 2.06-.94-2.06-.94-.94-2.06-.94 2.06-2.06.94zm-11 1L8.5 8.5l.94-2.06 2.06-.94-2.06-.94L8.5 2.5l-.94 2.06-2.06.94zm10 10l.94 2.06.94-2.06 2.06-.94-2.06-.94-.94-2.06-.94 2.06-2.06.94z\"/><path d=\"M17.41 7.96l-1.37-1.37c-.4-.4-.92-.59-1.43-.59-.52 0-1.04.2-1.43.59L10.3 9.45l-7.72 7.72c-.78.78-.78 2.05 0 2.83L4 21.41c.39.39.9.59 1.41.59.51 0 1.02-.2 1.41-.59l7.78-7.78 2.81-2.81c.8-.78.8-2.07 0-2.86zM5.41 20L4 18.59l7.72-7.72 1.47 1.35L5.41 20z\"/>\n",
              "  </svg>\n",
              "      </button>\n",
              "      \n",
              "  <style>\n",
              "    .colab-df-container {\n",
              "      display:flex;\n",
              "      flex-wrap:wrap;\n",
              "      gap: 12px;\n",
              "    }\n",
              "\n",
              "    .colab-df-convert {\n",
              "      background-color: #E8F0FE;\n",
              "      border: none;\n",
              "      border-radius: 50%;\n",
              "      cursor: pointer;\n",
              "      display: none;\n",
              "      fill: #1967D2;\n",
              "      height: 32px;\n",
              "      padding: 0 0 0 0;\n",
              "      width: 32px;\n",
              "    }\n",
              "\n",
              "    .colab-df-convert:hover {\n",
              "      background-color: #E2EBFA;\n",
              "      box-shadow: 0px 1px 2px rgba(60, 64, 67, 0.3), 0px 1px 3px 1px rgba(60, 64, 67, 0.15);\n",
              "      fill: #174EA6;\n",
              "    }\n",
              "\n",
              "    [theme=dark] .colab-df-convert {\n",
              "      background-color: #3B4455;\n",
              "      fill: #D2E3FC;\n",
              "    }\n",
              "\n",
              "    [theme=dark] .colab-df-convert:hover {\n",
              "      background-color: #434B5C;\n",
              "      box-shadow: 0px 1px 3px 1px rgba(0, 0, 0, 0.15);\n",
              "      filter: drop-shadow(0px 1px 2px rgba(0, 0, 0, 0.3));\n",
              "      fill: #FFFFFF;\n",
              "    }\n",
              "  </style>\n",
              "\n",
              "      <script>\n",
              "        const buttonEl =\n",
              "          document.querySelector('#df-377a97c8-cc73-47ab-9633-6b0ff91908cd button.colab-df-convert');\n",
              "        buttonEl.style.display =\n",
              "          google.colab.kernel.accessAllowed ? 'block' : 'none';\n",
              "\n",
              "        async function convertToInteractive(key) {\n",
              "          const element = document.querySelector('#df-377a97c8-cc73-47ab-9633-6b0ff91908cd');\n",
              "          const dataTable =\n",
              "            await google.colab.kernel.invokeFunction('convertToInteractive',\n",
              "                                                     [key], {});\n",
              "          if (!dataTable) return;\n",
              "\n",
              "          const docLinkHtml = 'Like what you see? Visit the ' +\n",
              "            '<a target=\"_blank\" href=https://colab.research.google.com/notebooks/data_table.ipynb>data table notebook</a>'\n",
              "            + ' to learn more about interactive tables.';\n",
              "          element.innerHTML = '';\n",
              "          dataTable['output_type'] = 'display_data';\n",
              "          await google.colab.output.renderOutput(dataTable, element);\n",
              "          const docLink = document.createElement('div');\n",
              "          docLink.innerHTML = docLinkHtml;\n",
              "          element.appendChild(docLink);\n",
              "        }\n",
              "      </script>\n",
              "    </div>\n",
              "  </div>\n",
              "  "
            ]
          },
          "metadata": {},
          "execution_count": 80
        }
      ]
    },
    {
      "cell_type": "markdown",
      "source": [
        "Now that we have X and y . Let us implement our ANN model "
      ],
      "metadata": {
        "id": "7zqRJkg8NEUm"
      }
    },
    {
      "cell_type": "markdown",
      "source": [
        "# MODEL IMPLEMENTATION"
      ],
      "metadata": {
        "id": "ixsALHM7NRtl"
      }
    },
    {
      "cell_type": "code",
      "source": [
        "# Importing libraries responsible for creating the model \n",
        "\n",
        "import tensorflow as tf\n",
        "from tensorflow import keras \n",
        "\n",
        "from tensorflow.keras.layers import Dense, Flatten, Input, Lambda, Dropout \n",
        "from tensorflow.keras.models import Model, Sequential "
      ],
      "metadata": {
        "id": "OdfyH4mzNT78"
      },
      "execution_count": 87,
      "outputs": []
    },
    {
      "cell_type": "code",
      "source": [
        "# Creating the model \n",
        "\n",
        "model = Sequential([\n",
        "  keras.layers.Dense(units = X.shape[1]),\n",
        "  keras.layers.Dense(units = 800, activation=\"relu\", kernel_initializer=\"he_uniform\"),\n",
        "  keras.layers.Dense(units = 800, activation=\"relu\", kernel_initializer=\"he_uniform\"),\n",
        "  keras.layers.Dense(units = 800, activation=\"relu\", kernel_initializer=\"he_uniform\"),\n",
        "  keras.layers.Dense(units = 800, activation=\"relu\", kernel_initializer=\"he_uniform\"),\n",
        "  keras.layers.Dense(units = 800, activation=\"relu\", kernel_initializer=\"he_uniform\"),\n",
        "  keras.layers.Dense(units = 800, activation=\"relu\", kernel_initializer=\"he_uniform\"),\n",
        "  keras.layers.Dense(units = 1, activation=\"sigmoid\")\n",
        "])"
      ],
      "metadata": {
        "id": "svF_VkfFPHK4"
      },
      "execution_count": 122,
      "outputs": []
    },
    {
      "cell_type": "code",
      "source": [
        "optimizer = tf.optimizers.Adam(learning_rate = 0.05)\n",
        "\n",
        "model.compile(optimizer=optimizer, loss = \"binary_crossentropy\", metrics= [\"accuracy\"])"
      ],
      "metadata": {
        "id": "yDJYa3mHRH5y"
      },
      "execution_count": 123,
      "outputs": []
    },
    {
      "cell_type": "code",
      "source": [
        "model.build(input_shape = X.shape)"
      ],
      "metadata": {
        "id": "Q8YVqBqOgCf_"
      },
      "execution_count": 124,
      "outputs": []
    },
    {
      "cell_type": "code",
      "source": [
        "model.summary()"
      ],
      "metadata": {
        "colab": {
          "base_uri": "https://localhost:8080/"
        },
        "id": "aWKIP3HkcteD",
        "outputId": "0a6cb379-3576-431f-d7f0-00815309fd67"
      },
      "execution_count": 125,
      "outputs": [
        {
          "output_type": "stream",
          "name": "stdout",
          "text": [
            "Model: \"sequential_3\"\n",
            "_________________________________________________________________\n",
            " Layer (type)                Output Shape              Param #   \n",
            "=================================================================\n",
            " dense_30 (Dense)            (539383, 7)               56        \n",
            "                                                                 \n",
            " dense_31 (Dense)            (539383, 800)             6400      \n",
            "                                                                 \n",
            " dense_32 (Dense)            (539383, 800)             640800    \n",
            "                                                                 \n",
            " dense_33 (Dense)            (539383, 800)             640800    \n",
            "                                                                 \n",
            " dense_34 (Dense)            (539383, 800)             640800    \n",
            "                                                                 \n",
            " dense_35 (Dense)            (539383, 800)             640800    \n",
            "                                                                 \n",
            " dense_36 (Dense)            (539383, 800)             640800    \n",
            "                                                                 \n",
            " dense_37 (Dense)            (539383, 1)               801       \n",
            "                                                                 \n",
            "=================================================================\n",
            "Total params: 3,211,257\n",
            "Trainable params: 3,211,257\n",
            "Non-trainable params: 0\n",
            "_________________________________________________________________\n"
          ]
        }
      ]
    },
    {
      "cell_type": "code",
      "source": [
        "# Splitting into training and validation data\n",
        "\n",
        "from sklearn.model_selection import train_test_split\n",
        "\n",
        "train_X, test_X, train_y, test_y = train_test_split(X,y,test_size=0.2)\n",
        "\n",
        "train_X, valid_X, train_y, valid_y = train_test_split(train_X,train_y,test_size=0.25)"
      ],
      "metadata": {
        "id": "g_XfrSfudnt0"
      },
      "execution_count": 126,
      "outputs": []
    },
    {
      "cell_type": "code",
      "source": [
        "history = model.fit(train_X, train_y, epochs = 10, validation_data=([valid_X,valid_y]))"
      ],
      "metadata": {
        "colab": {
          "base_uri": "https://localhost:8080/"
        },
        "id": "iLg7qPerfgo5",
        "outputId": "ef679d47-dff4-41f4-9a8b-f21a80afb057"
      },
      "execution_count": 127,
      "outputs": [
        {
          "output_type": "stream",
          "name": "stdout",
          "text": [
            "Epoch 1/10\n",
            "10114/10114 [==============================] - 330s 33ms/step - loss: 459.8309 - accuracy: 0.5461 - val_loss: 0.6874 - val_accuracy: 0.5555\n",
            "Epoch 2/10\n",
            "10114/10114 [==============================] - 325s 32ms/step - loss: 0.6883 - accuracy: 0.5538 - val_loss: 0.6879 - val_accuracy: 0.5555\n",
            "Epoch 3/10\n",
            "10114/10114 [==============================] - 316s 31ms/step - loss: 0.6881 - accuracy: 0.5539 - val_loss: 0.6871 - val_accuracy: 0.5555\n",
            "Epoch 4/10\n",
            "10114/10114 [==============================] - 315s 31ms/step - loss: 0.6881 - accuracy: 0.5540 - val_loss: 0.6870 - val_accuracy: 0.5555\n",
            "Epoch 5/10\n",
            "10114/10114 [==============================] - 317s 31ms/step - loss: 0.6881 - accuracy: 0.5538 - val_loss: 0.6878 - val_accuracy: 0.5555\n",
            "Epoch 6/10\n",
            "10114/10114 [==============================] - 317s 31ms/step - loss: 0.6883 - accuracy: 0.5543 - val_loss: 0.6872 - val_accuracy: 0.5555\n",
            "Epoch 7/10\n",
            "10114/10114 [==============================] - 325s 32ms/step - loss: 0.6881 - accuracy: 0.5544 - val_loss: 0.6871 - val_accuracy: 0.5555\n",
            "Epoch 8/10\n",
            "10114/10114 [==============================] - 327s 32ms/step - loss: 0.6882 - accuracy: 0.5540 - val_loss: 0.6875 - val_accuracy: 0.5555\n",
            "Epoch 9/10\n",
            "10114/10114 [==============================] - 329s 33ms/step - loss: 0.6882 - accuracy: 0.5542 - val_loss: 0.6883 - val_accuracy: 0.5555\n",
            "Epoch 10/10\n",
            "10114/10114 [==============================] - 330s 33ms/step - loss: 0.6883 - accuracy: 0.5537 - val_loss: 0.6877 - val_accuracy: 0.5555\n"
          ]
        }
      ]
    },
    {
      "cell_type": "code",
      "source": [
        "plt.plot(history.history[\"accuracy\"],history.history[\"val_accuracy\"])"
      ],
      "metadata": {
        "colab": {
          "base_uri": "https://localhost:8080/",
          "height": 164
        },
        "id": "DJR3OJSlij6u",
        "outputId": "63af6703-c972-49a4-cb17-34e16412a9f0"
      },
      "execution_count": 4,
      "outputs": [
        {
          "output_type": "error",
          "ename": "NameError",
          "evalue": "ignored",
          "traceback": [
            "\u001b[0;31m---------------------------------------------------------------------------\u001b[0m",
            "\u001b[0;31mNameError\u001b[0m                                 Traceback (most recent call last)",
            "\u001b[0;32m<ipython-input-4-55abef58df05>\u001b[0m in \u001b[0;36m<module>\u001b[0;34m()\u001b[0m\n\u001b[0;32m----> 1\u001b[0;31m \u001b[0mplt\u001b[0m\u001b[0;34m.\u001b[0m\u001b[0mplot\u001b[0m\u001b[0;34m(\u001b[0m\u001b[0mhistory\u001b[0m\u001b[0;34m.\u001b[0m\u001b[0mhistory\u001b[0m\u001b[0;34m[\u001b[0m\u001b[0;34m\"accuracy\"\u001b[0m\u001b[0;34m]\u001b[0m\u001b[0;34m,\u001b[0m\u001b[0mhistory\u001b[0m\u001b[0;34m.\u001b[0m\u001b[0mhistory\u001b[0m\u001b[0;34m[\u001b[0m\u001b[0;34m\"val_accuracy\"\u001b[0m\u001b[0;34m]\u001b[0m\u001b[0;34m)\u001b[0m\u001b[0;34m\u001b[0m\u001b[0;34m\u001b[0m\u001b[0m\n\u001b[0m",
            "\u001b[0;31mNameError\u001b[0m: name 'history' is not defined"
          ]
        }
      ]
    },
    {
      "cell_type": "code",
      "source": [
        "import matplotlib.pyplot as plt \n",
        "%matplotlib inline \n",
        "\n",
        "import seaborn as sns "
      ],
      "metadata": {
        "id": "O8su9m4IyDaq"
      },
      "execution_count": 3,
      "outputs": []
    },
    {
      "cell_type": "code",
      "source": [
        ""
      ],
      "metadata": {
        "id": "oV3tznsjyMM0"
      },
      "execution_count": null,
      "outputs": []
    }
  ]
}